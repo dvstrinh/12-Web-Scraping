{
 "cells": [
  {
   "cell_type": "code",
   "execution_count": 19,
   "metadata": {},
   "outputs": [],
   "source": [
    "# Dependencies\n",
    "from splinter import Browser\n",
    "from bs4 import BeautifulSoup\n",
    "import pandas as pd\n",
    "import requests"
   ]
  },
  {
   "cell_type": "code",
   "execution_count": 2,
   "metadata": {},
   "outputs": [
    {
     "name": "stdout",
     "output_type": "stream",
     "text": [
      "/usr/local/bin/chromedriver\r\n"
     ]
    }
   ],
   "source": [
    "!which chromedriver"
   ]
  },
  {
   "cell_type": "code",
   "execution_count": 3,
   "metadata": {},
   "outputs": [],
   "source": [
    "executable_path = {'executable_path': '/usr/local/bin/chromedriver'}\n",
    "browser = Browser('chrome', **executable_path, headless=True)"
   ]
  },
  {
   "cell_type": "markdown",
   "metadata": {},
   "source": [
    "# NASA Mars News"
   ]
  },
  {
   "cell_type": "code",
   "execution_count": 4,
   "metadata": {},
   "outputs": [],
   "source": [
    "news_url = 'https://mars.nasa.gov/news/'\n",
    "browser.visit(news_url)"
   ]
  },
  {
   "cell_type": "code",
   "execution_count": 5,
   "metadata": {},
   "outputs": [],
   "source": [
    "html = browser.html\n",
    "soup = BeautifulSoup(html, 'html.parser')"
   ]
  },
  {
   "cell_type": "code",
   "execution_count": 6,
   "metadata": {},
   "outputs": [
    {
     "data": {
      "text/plain": [
       "[<li class=\"slide\"><div class=\"image_and_description_container\"><a href=\"/news/8506/whats-mars-solar-conjunction-and-why-does-it-matter/\" target=\"_self\"><div class=\"rollover_description\"><div class=\"rollover_description_inner\">NASA spacecraft at Mars are going to be on their own for a few weeks when the Sun comes between Mars and Earth, interrupting communications.</div><div class=\"overlay_arrow\"><img alt=\"More\" src=\"/assets/overlay-arrow.png\"/></div></div><div class=\"list_image\"><img alt=\"This animation illustrates Mars solar conjunction, a period when Mars is on the opposite side of the Sun from Earth. During this time, the Sun can interrupt radio transmissions to spacecraft on and around the Red Planet.\" src=\"/system/news_items/list_view_images/8506_mars-solar-conjunction-th.jpg\"/></div><div class=\"bottom_gradient\"><div><h3>What's Mars Solar Conjunction, and Why Does It Matter?</h3></div></div></a><div class=\"list_text\"><div class=\"list_date\">August 23, 2019</div><div class=\"content_title\"><a href=\"/news/8506/whats-mars-solar-conjunction-and-why-does-it-matter/\" target=\"_self\">What's Mars Solar Conjunction, and Why Does It Matter?</a></div><div class=\"article_teaser_body\">NASA spacecraft at Mars are going to be on their own for a few weeks when the Sun comes between Mars and Earth, interrupting communications.</div></div></div></li>,\n",
       " <li class=\"slide\"><div class=\"image_and_description_container\"><a href=\"/news/8505/scientists-explore-outback-as-testbed-for-mars/\" target=\"_self\"><div class=\"rollover_description\"><div class=\"rollover_description_inner\">Australia provides a great place for NASA's Mars 2020 and the ESA-Roscosmos ExoMars scientists to hone techniques in preparation for searching for signs ancient life on Mars.</div><div class=\"overlay_arrow\"><img alt=\"More\" src=\"/assets/overlay-arrow.png\"/></div></div><div class=\"list_image\"><img alt=\"\" src=\"/system/news_items/list_view_images/8505_PIA23275-th.jpg\"/></div><div class=\"bottom_gradient\"><div><h3>Scientists Explore Outback as Testbed for Mars </h3></div></div></a><div class=\"list_text\"><div class=\"list_date\">August 23, 2019</div><div class=\"content_title\"><a href=\"/news/8505/scientists-explore-outback-as-testbed-for-mars/\" target=\"_self\">Scientists Explore Outback as Testbed for Mars </a></div><div class=\"article_teaser_body\">Australia provides a great place for NASA's Mars 2020 and the ESA-Roscosmos ExoMars scientists to hone techniques in preparation for searching for signs ancient life on Mars.</div></div></div></li>,\n",
       " <li class=\"slide\"><div class=\"image_and_description_container\"><a href=\"/news/8504/nasa-jpl-names-rolling-stones-rock-on-mars/\" target=\"_self\"><div class=\"rollover_description\"><div class=\"rollover_description_inner\">NASA's Mars InSight mission honored one of the biggest bands of all time at Pasadena concert.</div><div class=\"overlay_arrow\"><img alt=\"More\" src=\"/assets/overlay-arrow.png\"/></div></div><div class=\"list_image\"><img alt=\"This animation illustrates NASA's InSight lander touching down on Mars, its thrusters setting a rock in motion. A little bigger than a golf ball, the rock was later nicknamed &quot;Rolling Stones Rock&quot; by the InSight team in honor of The Rolling Stones.\" src=\"/system/news_items/list_view_images/8504_insight20190822-226.gif\"/></div><div class=\"bottom_gradient\"><div><h3>NASA-JPL Names 'Rolling Stones Rock' on Mars</h3></div></div></a><div class=\"list_text\"><div class=\"list_date\">August 22, 2019</div><div class=\"content_title\"><a href=\"/news/8504/nasa-jpl-names-rolling-stones-rock-on-mars/\" target=\"_self\">NASA-JPL Names 'Rolling Stones Rock' on Mars</a></div><div class=\"article_teaser_body\">NASA's Mars InSight mission honored one of the biggest bands of all time at Pasadena concert.</div></div></div></li>,\n",
       " <li class=\"slide\"><div class=\"image_and_description_container\"><a href=\"/news/8503/robotic-toolkit-added-to-nasas-mars-2020-rover/\" target=\"_self\"><div class=\"rollover_description\"><div class=\"rollover_description_inner\">The bit carousel, which lies at the heart of the rover's Sample Caching System, is now aboard NASA's newest rover. </div><div class=\"overlay_arrow\"><img alt=\"More\" src=\"/assets/overlay-arrow.png\"/></div></div><div class=\"list_image\"><img alt=\"The heart of sampling and caching subsystem of NASA’s Mars 2020 mission -  is attached to the front end of the rover.\" src=\"/system/news_items/list_view_images/8503_PIA23319-MAIN-226.jpg\"/></div><div class=\"bottom_gradient\"><div><h3>Robotic Toolkit Added to NASA's Mars 2020 Rover</h3></div></div></a><div class=\"list_text\"><div class=\"list_date\">August 15, 2019</div><div class=\"content_title\"><a href=\"/news/8503/robotic-toolkit-added-to-nasas-mars-2020-rover/\" target=\"_self\">Robotic Toolkit Added to NASA's Mars 2020 Rover</a></div><div class=\"article_teaser_body\">The bit carousel, which lies at the heart of the rover's Sample Caching System, is now aboard NASA's newest rover. </div></div></div></li>,\n",
       " <li class=\"slide\"><div class=\"image_and_description_container\"><a href=\"/news/8502/space-samples-link-nasas-apollo-11-and-mars-2020/\" target=\"_self\"><div class=\"rollover_description\"><div class=\"rollover_description_inner\">While separated by half a century, NASA's Apollo 11 and Mars 2020 missions share the same historic goal: returning samples to Earth.</div><div class=\"overlay_arrow\"><img alt=\"More\" src=\"/assets/overlay-arrow.png\"/></div></div><div class=\"list_image\"><img alt=\"From left to right: Apollo 11 astronaut Buzz Aldrin stands on the Moon; 47 pounds (21.5 kilograms) of samples were brought back to Earth from that mission; the Mars 2020 rover, seen here in an artist's concept rover, will be taking the first planetary samples at Jezero Crater, Mars (on right). \" src=\"/system/news_items/list_view_images/8502_apollo-mars2020-20190809-th.jpg\"/></div><div class=\"bottom_gradient\"><div><h3>Space Samples Link NASA's Apollo 11 and Mars 2020</h3></div></div></a><div class=\"list_text\"><div class=\"list_date\">August 13, 2019</div><div class=\"content_title\"><a href=\"/news/8502/space-samples-link-nasas-apollo-11-and-mars-2020/\" target=\"_self\">Space Samples Link NASA's Apollo 11 and Mars 2020</a></div><div class=\"article_teaser_body\">While separated by half a century, NASA's Apollo 11 and Mars 2020 missions share the same historic goal: returning samples to Earth.</div></div></div></li>,\n",
       " <li class=\"slide\"><div class=\"image_and_description_container\"><a href=\"/news/8501/small-satellite-mission-of-the-year/\" target=\"_self\"><div class=\"rollover_description\"><div class=\"rollover_description_inner\">The first interplanetary CubeSats were recognized by the engineering community with the 2019 Small Satellite Mission of the Year award.</div><div class=\"overlay_arrow\"><img alt=\"More\" src=\"/assets/overlay-arrow.png\"/></div></div><div class=\"list_image\"><img alt=\"An artist's rendering of the twin Mars Cube One (MarCO) spacecraft as they fly through deep space.\" src=\"/system/news_items/list_view_images/8501_21555_PIA22314_320.jpg\"/></div><div class=\"bottom_gradient\"><div><h3>Small Satellite Mission of the Year</h3></div></div></a><div class=\"list_text\"><div class=\"list_date\">August  9, 2019</div><div class=\"content_title\"><a href=\"/news/8501/small-satellite-mission-of-the-year/\" target=\"_self\">Small Satellite Mission of the Year</a></div><div class=\"article_teaser_body\">The first interplanetary CubeSats were recognized by the engineering community with the 2019 Small Satellite Mission of the Year award.</div></div></div></li>,\n",
       " <li class=\"slide\"><div class=\"image_and_description_container\"><a href=\"/news/8499/nasa-optometrists-verify-mars-2020-rovers-2020-vision/\" target=\"_self\"><div class=\"rollover_description\"><div class=\"rollover_description_inner\">Mars 2020 rover underwent an eye exam after several cameras were installed on the rover.</div><div class=\"overlay_arrow\"><img alt=\"More\" src=\"/assets/overlay-arrow.png\"/></div></div><div class=\"list_image\"><img alt=\"In this image, engineers test cameras on the top of the Mars 2020 rover’s mast and front chassis. The image was taken on July 23, 2019, in the Spacecraft Assembly Facility's High Bay 1 at NASA's Jet Propulsion Laboratory in Pasadena, California.\" src=\"/system/news_items/list_view_images/8499_PIA23314-th.jpg\"/></div><div class=\"bottom_gradient\"><div><h3>NASA 'Optometrists' Verify Mars 2020 Rover's 20/20 Vision</h3></div></div></a><div class=\"list_text\"><div class=\"list_date\">August  5, 2019</div><div class=\"content_title\"><a href=\"/news/8499/nasa-optometrists-verify-mars-2020-rovers-2020-vision/\" target=\"_self\">NASA 'Optometrists' Verify Mars 2020 Rover's 20/20 Vision</a></div><div class=\"article_teaser_body\">Mars 2020 rover underwent an eye exam after several cameras were installed on the rover.</div></div></div></li>,\n",
       " <li class=\"slide\"><div class=\"image_and_description_container\"><a href=\"/news/8498/new-finds-for-mars-rover-seven-years-after-landing/\" target=\"_self\"><div class=\"rollover_description\"><div class=\"rollover_description_inner\">NASA's Curiosity rover is discovering odd rocks halfway into a region called the \"clay-bearing unit.\"</div><div class=\"overlay_arrow\"><img alt=\"More\" src=\"/assets/overlay-arrow.png\"/></div></div><div class=\"list_image\"><img alt=\"This panorama of a location called &quot;Teal Ridge&quot; was captured on Mars by the Mast Camera, or Mastcam, on NASA's Curiosity rover on June 18, 2019, the 2,440th Martian day, or sol, of the mission.\" src=\"/system/news_items/list_view_images/8498_PIA23346-th.jpg\"/></div><div class=\"bottom_gradient\"><div><h3>New Finds for Mars Rover, Seven Years After Landing</h3></div></div></a><div class=\"list_text\"><div class=\"list_date\">August  5, 2019</div><div class=\"content_title\"><a href=\"/news/8498/new-finds-for-mars-rover-seven-years-after-landing/\" target=\"_self\">New Finds for Mars Rover, Seven Years After Landing</a></div><div class=\"article_teaser_body\">NASA's Curiosity rover is discovering odd rocks halfway into a region called the \"clay-bearing unit.\"</div></div></div></li>,\n",
       " <li class=\"slide\"><div class=\"image_and_description_container\"><a href=\"/news/8497/medli2-installation-on-mars-2020-aeroshell-begins/\" target=\"_self\"><div class=\"rollover_description\"><div class=\"rollover_description_inner\">Hardware installed onto NASA's Mars 2020 entry vehicle this week will help to increase the safety of future Mars landings.</div><div class=\"overlay_arrow\"><img alt=\"More\" src=\"/assets/overlay-arrow.png\"/></div></div><div class=\"list_image\"><img alt=\"Vibration testing of the MEDLI2 primary electronics box was successfully completed recently at NASA’s Langley Research Center in Hampton, Virginia. Flight hardware is being shipped and installed on the Mars 2020 entry vehicle in preparation for next year’s launch. \" src=\"/system/news_items/list_view_images/8497_medli-16-th.jpg\"/></div><div class=\"bottom_gradient\"><div><h3>MEDLI2 Installation on Mars 2020 Aeroshell Begins</h3></div></div></a><div class=\"list_text\"><div class=\"list_date\">August  3, 2019</div><div class=\"content_title\"><a href=\"/news/8497/medli2-installation-on-mars-2020-aeroshell-begins/\" target=\"_self\">MEDLI2 Installation on Mars 2020 Aeroshell Begins</a></div><div class=\"article_teaser_body\">Hardware installed onto NASA's Mars 2020 entry vehicle this week will help to increase the safety of future Mars landings.</div></div></div></li>,\n",
       " <li class=\"slide\"><div class=\"image_and_description_container\"><a href=\"/news/8496/nasas-mars-2020-rover-does-biceps-curls/\" target=\"_self\"><div class=\"rollover_description\"><div class=\"rollover_description_inner\">In this time-lapse video, the robotic arm on NASA's Mars 2020 rover maneuvers its 88-pound (40-kilogram) sensor-laden turret as it moves from a deployed to stowed configuration.</div><div class=\"overlay_arrow\"><img alt=\"More\" src=\"/assets/overlay-arrow.png\"/></div></div><div class=\"list_image\"><img alt=\"\" src=\"/system/news_items/list_view_images/8496_PIA23212-th.jpg\"/></div><div class=\"bottom_gradient\"><div><h3>NASA's Mars 2020 Rover Does Biceps Curls </h3></div></div></a><div class=\"list_text\"><div class=\"list_date\">July 26, 2019</div><div class=\"content_title\"><a href=\"/news/8496/nasas-mars-2020-rover-does-biceps-curls/\" target=\"_self\">NASA's Mars 2020 Rover Does Biceps Curls </a></div><div class=\"article_teaser_body\">In this time-lapse video, the robotic arm on NASA's Mars 2020 rover maneuvers its 88-pound (40-kilogram) sensor-laden turret as it moves from a deployed to stowed configuration.</div></div></div></li>,\n",
       " <li class=\"slide\"><div class=\"image_and_description_container\"><a href=\"/news/8495/fueling-of-nasas-mars-2020-rover-power-system-begins/\" target=\"_self\"><div class=\"rollover_description\"><div class=\"rollover_description_inner\">NASA gives the go-ahead to fuel the Mars 2020 rover's Multi-Mission Radioisotope Thermoelectric Generator, which will power rover and help keep it warm while exploring Mars.</div><div class=\"overlay_arrow\"><img alt=\"More\" src=\"/assets/overlay-arrow.png\"/></div></div><div class=\"list_image\"><img alt=\"The electricity for NASA's Mars 2020 rover is provided by a power system called a Multi-Mission Radioisotope Thermoelectric Generator, or MMRTG. The MMRTG will be inserted into the aft end of the rover between the panels with gold tubing visible at the rear, which are called heat exchangers. \" src=\"/system/news_items/list_view_images/8495_PIA23305-th.jpg\"/></div><div class=\"bottom_gradient\"><div><h3>Fueling of NASA's Mars 2020 Rover Power System Begins</h3></div></div></a><div class=\"list_text\"><div class=\"list_date\">July 24, 2019</div><div class=\"content_title\"><a href=\"/news/8495/fueling-of-nasas-mars-2020-rover-power-system-begins/\" target=\"_self\">Fueling of NASA's Mars 2020 Rover Power System Begins</a></div><div class=\"article_teaser_body\">NASA gives the go-ahead to fuel the Mars 2020 rover's Multi-Mission Radioisotope Thermoelectric Generator, which will power rover and help keep it warm while exploring Mars.</div></div></div></li>,\n",
       " <li class=\"slide\"><div class=\"image_and_description_container\"><a href=\"/news/8494/what-does-a-marsquake-look-like/\" target=\"_self\"><div class=\"rollover_description\"><div class=\"rollover_description_inner\">InSight scientists used a special \"shake room\" to demonstrate the differences between quakes on Earth, the Moon and Mars.</div><div class=\"overlay_arrow\"><img alt=\"More\" src=\"/assets/overlay-arrow.png\"/></div></div><div class=\"list_image\"><img alt=\"Artist's concept is a simulation of what seismic waves from a marsquake might look like\" src=\"/system/news_items/list_view_images/8494_PIA2344-226.jpg\"/></div><div class=\"bottom_gradient\"><div><h3>What Does a Marsquake Look Like?</h3></div></div></a><div class=\"list_text\"><div class=\"list_date\">July 22, 2019</div><div class=\"content_title\"><a href=\"/news/8494/what-does-a-marsquake-look-like/\" target=\"_self\">What Does a Marsquake Look Like?</a></div><div class=\"article_teaser_body\">InSight scientists used a special \"shake room\" to demonstrate the differences between quakes on Earth, the Moon and Mars.</div></div></div></li>,\n",
       " <li class=\"slide\"><div class=\"image_and_description_container\"><a href=\"/news/8461/mars-2020-rover-t-minus-one-year-and-counting/\" target=\"_self\"><div class=\"rollover_description\"><div class=\"rollover_description_inner\">The launch period for NASA's next rover, Mars 2020, opens exactly one year from today, July 17, 2020, and extends through Aug. 5, 2020.</div><div class=\"overlay_arrow\"><img alt=\"More\" src=\"/assets/overlay-arrow.png\"/></div></div><div class=\"list_image\"><img alt=\"Engineers at JPL install a sensor-filled turret on the end of the rover's seven-foot-long (2.1-meter-long) robotic arm.\" src=\"/system/news_items/list_view_images/8461_PIA23311-th.jpg\"/></div><div class=\"bottom_gradient\"><div><h3>Mars 2020 Rover: T-Minus One Year and Counting </h3></div></div></a><div class=\"list_text\"><div class=\"list_date\">July 17, 2019</div><div class=\"content_title\"><a href=\"/news/8461/mars-2020-rover-t-minus-one-year-and-counting/\" target=\"_self\">Mars 2020 Rover: T-Minus One Year and Counting </a></div><div class=\"article_teaser_body\">The launch period for NASA's next rover, Mars 2020, opens exactly one year from today, July 17, 2020, and extends through Aug. 5, 2020.</div></div></div></li>,\n",
       " <li class=\"slide\"><div class=\"image_and_description_container\"><a href=\"/news/8460/nasa-racks-up-two-emmy-nominations-for-mission-coverage/\" target=\"_self\"><div class=\"rollover_description\"><div class=\"rollover_description_inner\">JPL's coverage of the Mars InSight mission is among the efforts that will be up for an award in mid-September.</div><div class=\"overlay_arrow\"><img alt=\"More\" src=\"/assets/overlay-arrow.png\"/></div></div><div class=\"list_image\"><img alt=\"reactions after receiving confirmation that the spacecraft successfully touched down on the surface of Mars\" src=\"/system/news_items/list_view_images/8460_list_image.jpg\"/></div><div class=\"bottom_gradient\"><div><h3>NASA Racks Up Two Emmy Nominations for Mission Coverage</h3></div></div></a><div class=\"list_text\"><div class=\"list_date\">July 16, 2019</div><div class=\"content_title\"><a href=\"/news/8460/nasa-racks-up-two-emmy-nominations-for-mission-coverage/\" target=\"_self\">NASA Racks Up Two Emmy Nominations for Mission Coverage</a></div><div class=\"article_teaser_body\">JPL's coverage of the Mars InSight mission is among the efforts that will be up for an award in mid-September.</div></div></div></li>,\n",
       " <li class=\"slide\"><div class=\"image_and_description_container\"><a href=\"/news/8459/want-to-colonize-mars-aerogel-could-help/\" target=\"_self\"><div class=\"rollover_description\"><div class=\"rollover_description_inner\">Researchers are studying whether a wonder material used in Mars rovers could help warm parts of the Red Planet rich in water ice.</div><div class=\"overlay_arrow\"><img alt=\"More\" src=\"/assets/overlay-arrow.png\"/></div></div><div class=\"list_image\"><img alt=\"Scientists are exploring how aerogel, a translucent, Styrofoam-like material, could be used as a building material on Mars.\" src=\"/system/news_items/list_view_images/8459_PIA23343-320x240.jpg\"/></div><div class=\"bottom_gradient\"><div><h3>Want to Colonize Mars? Aerogel Could Help</h3></div></div></a><div class=\"list_text\"><div class=\"list_date\">July 15, 2019</div><div class=\"content_title\"><a href=\"/news/8459/want-to-colonize-mars-aerogel-could-help/\" target=\"_self\">Want to Colonize Mars? Aerogel Could Help</a></div><div class=\"article_teaser_body\">Researchers are studying whether a wonder material used in Mars rovers could help warm parts of the Red Planet rich in water ice.</div></div></div></li>,\n",
       " <li class=\"slide\"><div class=\"image_and_description_container\"><a href=\"/news/8458/a-rover-pit-stop-at-jpl/\" target=\"_self\"><div class=\"rollover_description\"><div class=\"rollover_description_inner\">Working like a finely honed machine, a team of engineers in this time-lapse video clip install test wheels on another finely honed machine: NASA's Mars 2020 rover.</div><div class=\"overlay_arrow\"><img alt=\"More\" src=\"/assets/overlay-arrow.png\"/></div></div><div class=\"list_image\"><img alt=\"A team of engineers at NASA's Jet Propulsion Laboratory in Pasadena, California, install the legs and wheels — otherwise known as the mobility suspension — on the Mars 2020 rover.\" src=\"/system/news_items/list_view_images/8458_rover-time-lapse-th.jpg\"/></div><div class=\"bottom_gradient\"><div><h3>A Rover Pit Stop at JPL</h3></div></div></a><div class=\"list_text\"><div class=\"list_date\">July 12, 2019</div><div class=\"content_title\"><a href=\"/news/8458/a-rover-pit-stop-at-jpl/\" target=\"_self\">A Rover Pit Stop at JPL</a></div><div class=\"article_teaser_body\">Working like a finely honed machine, a team of engineers in this time-lapse video clip install test wheels on another finely honed machine: NASA's Mars 2020 rover.</div></div></div></li>,\n",
       " <li class=\"slide\"><div class=\"image_and_description_container\"><a href=\"/news/8457/mars-2020-rover-gets-a-super-instrument/\" target=\"_self\"><div class=\"rollover_description\"><div class=\"rollover_description_inner\">With its rock-zapping laser, the SuperCam will enable the science team to identify the chemical and mineral makeup of its targets on the Red Planet.</div><div class=\"overlay_arrow\"><img alt=\"More\" src=\"/assets/overlay-arrow.png\"/></div></div><div class=\"list_image\"><img alt=\"Engineers install the SuperCam instrument on Mars 2020's rover. This image was taken on June 25, 2019, in the Spacecraft Assembly Facility at NASA's Jet Propulsion Laboratory, Pasadena, California.\" src=\"/system/news_items/list_view_images/8457_PIA23307-th.jpg\"/></div><div class=\"bottom_gradient\"><div><h3>Mars 2020 Rover Gets a Super Instrument</h3></div></div></a><div class=\"list_text\"><div class=\"list_date\">July  2, 2019</div><div class=\"content_title\"><a href=\"/news/8457/mars-2020-rover-gets-a-super-instrument/\" target=\"_self\">Mars 2020 Rover Gets a Super Instrument</a></div><div class=\"article_teaser_body\">With its rock-zapping laser, the SuperCam will enable the science team to identify the chemical and mineral makeup of its targets on the Red Planet.</div></div></div></li>,\n",
       " <li class=\"slide\"><div class=\"image_and_description_container\"><a href=\"/news/8456/a-neil-armstrong-for-mars-landing-the-mars-2020-rover/\" target=\"_self\"><div class=\"rollover_description\"><div class=\"rollover_description_inner\">NASA's newest rover will have an autopilot called Terrain-Relative Navigation.</div><div class=\"overlay_arrow\"><img alt=\"More\" src=\"/assets/overlay-arrow.png\"/></div></div><div class=\"list_image\"><img alt=\"\" src=\"/system/news_items/list_view_images/8456_trn-th.jpg\"/></div><div class=\"bottom_gradient\"><div><h3>A Neil Armstrong for Mars: Landing the Mars 2020 Rover</h3></div></div></a><div class=\"list_text\"><div class=\"list_date\">July  1, 2019</div><div class=\"content_title\"><a href=\"/news/8456/a-neil-armstrong-for-mars-landing-the-mars-2020-rover/\" target=\"_self\">A Neil Armstrong for Mars: Landing the Mars 2020 Rover</a></div><div class=\"article_teaser_body\">NASA's newest rover will have an autopilot called Terrain-Relative Navigation.</div></div></div></li>,\n",
       " <li class=\"slide\"><div class=\"image_and_description_container\"><a href=\"/news/8455/nasas-insight-uncovers-the-mole/\" target=\"_self\"><div class=\"rollover_description\"><div class=\"rollover_description_inner\">The lander's robotic arm has successfully removed a piece of hardware blocking the view of its digging device in order to help with recovery efforts.</div><div class=\"overlay_arrow\"><img alt=\"More\" src=\"/assets/overlay-arrow.png\"/></div></div><div class=\"list_image\"><img alt=\"On June 28, 2019, NASA's InSight lander used its robotic arm to move the support structure for its digging instrument, informally called the &quot;mole.&quot; This view was captured by the fisheye Instrument Context Camera under the lander's deck.\" src=\"/system/news_items/list_view_images/8455_PIA23308-th.gif\"/></div><div class=\"bottom_gradient\"><div><h3>NASA's InSight Uncovers the 'Mole' </h3></div></div></a><div class=\"list_text\"><div class=\"list_date\">July  1, 2019</div><div class=\"content_title\"><a href=\"/news/8455/nasas-insight-uncovers-the-mole/\" target=\"_self\">NASA's InSight Uncovers the 'Mole' </a></div><div class=\"article_teaser_body\">The lander's robotic arm has successfully removed a piece of hardware blocking the view of its digging device in order to help with recovery efforts.</div></div></div></li>,\n",
       " <li class=\"slide\"><div class=\"image_and_description_container\"><a href=\"/news/8454/mars-2020-rovers-7-foot-long-robotic-arm-installed/\" target=\"_self\"><div class=\"rollover_description\"><div class=\"rollover_description_inner\">The main robotic arm has been installed on NASA's newest rover. When complete, the arm will enable the rover to hold and use science tools like a human geologist would.</div><div class=\"overlay_arrow\"><img alt=\"More\" src=\"/assets/overlay-arrow.png\"/></div></div><div class=\"list_image\"><img alt=\"On June 21, 2019, engineers at NASA's Jet Propulsion Laboratory install the main robotic arm on the Mars 2020 rover.\" src=\"/system/news_items/list_view_images/8454_PIA23227-th.jpg\"/></div><div class=\"bottom_gradient\"><div><h3>Mars 2020 Rover's 7-Foot-Long Robotic Arm Installed</h3></div></div></a><div class=\"list_text\"><div class=\"list_date\">June 28, 2019</div><div class=\"content_title\"><a href=\"/news/8454/mars-2020-rovers-7-foot-long-robotic-arm-installed/\" target=\"_self\">Mars 2020 Rover's 7-Foot-Long Robotic Arm Installed</a></div><div class=\"article_teaser_body\">The main robotic arm has been installed on NASA's newest rover. When complete, the arm will enable the rover to hold and use science tools like a human geologist would.</div></div></div></li>,\n",
       " <li class=\"slide\"><div class=\"image_and_description_container\"><a href=\"/news/8453/nasa-selects-partners-for-mars-2020-name-the-rover-contest-seeks-judges/\" target=\"_self\"><div class=\"rollover_description\"><div class=\"rollover_description_inner\">The contest for U.S. schoolchildren will open in fall 2019, but judges can sign up now.</div><div class=\"overlay_arrow\"><img alt=\"More\" src=\"/assets/overlay-arrow.png\"/></div></div><div class=\"list_image\"><img alt=\"This cartoon depicts NASA's next Mars rover, which launches in 2020.\" src=\"/system/news_items/list_view_images/8453_Name_A_unannotated_MAIN-th.jpg\"/></div><div class=\"bottom_gradient\"><div><h3>NASA Selects Partners for Mars 2020 'Name the Rover' Contest, Seeks Judges</h3></div></div></a><div class=\"list_text\"><div class=\"list_date\">June 25, 2019</div><div class=\"content_title\"><a href=\"/news/8453/nasa-selects-partners-for-mars-2020-name-the-rover-contest-seeks-judges/\" target=\"_self\">NASA Selects Partners for Mars 2020 'Name the Rover' Contest, Seeks Judges</a></div><div class=\"article_teaser_body\">The contest for U.S. schoolchildren will open in fall 2019, but judges can sign up now.</div></div></div></li>,\n",
       " <li class=\"slide\"><div class=\"image_and_description_container\"><a href=\"/news/8452/curiositys-mars-methane-mystery-continues/\" target=\"_self\"><div class=\"rollover_description\"><div class=\"rollover_description_inner\">The Curiosity rover’s follow-on sampling shows last week’s methane levels have sharply decreased.</div><div class=\"overlay_arrow\"><img alt=\"More\" src=\"/assets/overlay-arrow.png\"/></div></div><div class=\"list_image\"><img alt='This image shows part of \"Teal Ridge,\" which the rover has been studying within a region called the \"clay-bearing unit.\"' src=\"/system/news_items/list_view_images/8452_methane_main-th.jpg\"/></div><div class=\"bottom_gradient\"><div><h3>Curiosity's Mars Methane Mystery Continues</h3></div></div></a><div class=\"list_text\"><div class=\"list_date\">June 24, 2019</div><div class=\"content_title\"><a href=\"/news/8452/curiositys-mars-methane-mystery-continues/\" target=\"_self\">Curiosity's Mars Methane Mystery Continues</a></div><div class=\"article_teaser_body\">The Curiosity rover’s follow-on sampling shows last week’s methane levels have sharply decreased.</div></div></div></li>,\n",
       " <li class=\"slide\"><div class=\"image_and_description_container\"><a href=\"/news/8451/mars-2020-rover-gets-its-wheels/\" target=\"_self\"><div class=\"rollover_description\"><div class=\"rollover_description_inner\">With the mobility suspension in place, the rover not only looks more like a rover but has many of its 'big-ticket items' installed.</div><div class=\"overlay_arrow\"><img alt=\"More\" src=\"/assets/overlay-arrow.png\"/></div></div><div class=\"list_image\"><img alt=\"Mars 2020 Gets Its Wheels\" src=\"/system/news_items/list_view_images/8451_pia23269-MAIN-th.jpg\"/></div><div class=\"bottom_gradient\"><div><h3>Mars 2020 Rover Gets Its Wheels</h3></div></div></a><div class=\"list_text\"><div class=\"list_date\">June 20, 2019</div><div class=\"content_title\"><a href=\"/news/8451/mars-2020-rover-gets-its-wheels/\" target=\"_self\">Mars 2020 Rover Gets Its Wheels</a></div><div class=\"article_teaser_body\">With the mobility suspension in place, the rover not only looks more like a rover but has many of its 'big-ticket items' installed.</div></div></div></li>,\n",
       " <li class=\"slide\"><div class=\"image_and_description_container\"><a href=\"/news/8450/the-mast-is-raised-for-nasas-mars-2020-rover/\" target=\"_self\"><div class=\"rollover_description\"><div class=\"rollover_description_inner\">Engineers at JPL take a group selfie after attaching the remote sensing mast to the Mars 2020 rover.</div><div class=\"overlay_arrow\"><img alt=\"More\" src=\"/assets/overlay-arrow.png\"/></div></div><div class=\"list_image\"><img alt=\"Engineers and technicians at NASA's Jet Propulsion Laboratory in Pasadena, California, install the remote sensing mast on the Mars 2020 rover.\" src=\"/system/news_items/list_view_images/8450_PIA23268-320x240.jpg\"/></div><div class=\"bottom_gradient\"><div><h3>The Mast Is Raised for NASA's Mars 2020 Rover</h3></div></div></a><div class=\"list_text\"><div class=\"list_date\">June 14, 2019</div><div class=\"content_title\"><a href=\"/news/8450/the-mast-is-raised-for-nasas-mars-2020-rover/\" target=\"_self\">The Mast Is Raised for NASA's Mars 2020 Rover</a></div><div class=\"article_teaser_body\">Engineers at JPL take a group selfie after attaching the remote sensing mast to the Mars 2020 rover.</div></div></div></li>,\n",
       " <li class=\"slide\"><div class=\"image_and_description_container\"><a href=\"/news/8449/nasas-mars-2020-will-blaze-a-trail-for-humans/\" target=\"_self\"><div class=\"rollover_description\"><div class=\"rollover_description_inner\">The next robotic Mars mission will carry technology that will help enable astronauts to eventually explore the Red Planet.</div><div class=\"overlay_arrow\"><img alt=\"More\" src=\"/assets/overlay-arrow.png\"/></div></div><div class=\"list_image\"><img alt=\"\" src=\"/system/news_items/list_view_images/8449_PIA23302-th.jpg\"/></div><div class=\"bottom_gradient\"><div><h3>NASA's Mars 2020 Will Blaze a Trail — for Humans</h3></div></div></a><div class=\"list_text\"><div class=\"list_date\">June 12, 2019</div><div class=\"content_title\"><a href=\"/news/8449/nasas-mars-2020-will-blaze-a-trail-for-humans/\" target=\"_self\">NASA's Mars 2020 Will Blaze a Trail — for Humans</a></div><div class=\"article_teaser_body\">The next robotic Mars mission will carry technology that will help enable astronauts to eventually explore the Red Planet.</div></div></div></li>,\n",
       " <li class=\"slide\"><div class=\"image_and_description_container\"><a href=\"/news/8448/johnson-built-device-to-help-mars-2020-rover-search-for-signs-of-life/\" target=\"_self\"><div class=\"rollover_description\"><div class=\"rollover_description_inner\">NASA’s Johnson Space Center (JSC) recently built a new calibration device for the rover to check SHERLOC’s function and properly tune it during the upcoming mission.</div><div class=\"overlay_arrow\"><img alt=\"More\" src=\"/assets/overlay-arrow.png\"/></div></div><div class=\"list_image\"><img alt=\"Mars 2020 SHERLOC Calibration Target\" src=\"/system/news_items/list_view_images/8448_sherloc2-calibration-target-320x240.jpg\"/></div><div class=\"bottom_gradient\"><div><h3>Johnson-Built Device to Help Mars 2020 Rover Search for Signs of Life</h3></div></div></a><div class=\"list_text\"><div class=\"list_date\">June 11, 2019</div><div class=\"content_title\"><a href=\"/news/8448/johnson-built-device-to-help-mars-2020-rover-search-for-signs-of-life/\" target=\"_self\">Johnson-Built Device to Help Mars 2020 Rover Search for Signs of Life</a></div><div class=\"article_teaser_body\">NASA’s Johnson Space Center (JSC) recently built a new calibration device for the rover to check SHERLOC’s function and properly tune it during the upcoming mission.</div></div></div></li>,\n",
       " <li class=\"slide\"><div class=\"image_and_description_container\"><a href=\"/news/8447/watch-nasa-build-its-next-mars-rover/\" target=\"_self\"><div class=\"rollover_description\"><div class=\"rollover_description_inner\">A newly installed webcam offers the public a live, bird's-eye view of NASA's Mars 2020 rover as it takes shape at NASA's Jet Propulsion Laboratory. </div><div class=\"overlay_arrow\"><img alt=\"More\" src=\"/assets/overlay-arrow.png\"/></div></div><div class=\"list_image\"><img alt='The View from the \"Seeing 2020\" Webcam' src=\"/system/news_items/list_view_images/8447_seeing_2020-th.jpg\"/></div><div class=\"bottom_gradient\"><div><h3>Watch NASA Build Its Next Mars Rover</h3></div></div></a><div class=\"list_text\"><div class=\"list_date\">June  6, 2019</div><div class=\"content_title\"><a href=\"/news/8447/watch-nasa-build-its-next-mars-rover/\" target=\"_self\">Watch NASA Build Its Next Mars Rover</a></div><div class=\"article_teaser_body\">A newly installed webcam offers the public a live, bird's-eye view of NASA's Mars 2020 rover as it takes shape at NASA's Jet Propulsion Laboratory. </div></div></div></li>,\n",
       " <li class=\"slide\"><div class=\"image_and_description_container\"><a href=\"/news/8446/nasas-mars-helicopter-testing-enters-final-phase/\" target=\"_self\"><div class=\"rollover_description\"><div class=\"rollover_description_inner\">NASA's Mars Helicopter flight demonstration project has passed a number of key tests with flying colors.</div><div class=\"overlay_arrow\"><img alt=\"More\" src=\"/assets/overlay-arrow.png\"/></div></div><div class=\"list_image\"><img alt=\"\" src=\"/system/news_items/list_view_images/8446_download-6.jpg\"/></div><div class=\"bottom_gradient\"><div><h3>NASA's Mars Helicopter Testing Enters Final Phase</h3></div></div></a><div class=\"list_text\"><div class=\"list_date\">June  6, 2019</div><div class=\"content_title\"><a href=\"/news/8446/nasas-mars-helicopter-testing-enters-final-phase/\" target=\"_self\">NASA's Mars Helicopter Testing Enters Final Phase</a></div><div class=\"article_teaser_body\">NASA's Mars Helicopter flight demonstration project has passed a number of key tests with flying colors.</div></div></div></li>,\n",
       " <li class=\"slide\"><div class=\"image_and_description_container\"><a href=\"/news/8445/insights-team-tries-new-strategy-to-help-the-mole/\" target=\"_self\"><div class=\"rollover_description\"><div class=\"rollover_description_inner\">The spacecraft's robotic arm will lift the heat probe's support structure, providing a better look at the instrument that has been trying to burrow into the Martian surface.</div><div class=\"overlay_arrow\"><img alt=\"More\" src=\"/assets/overlay-arrow.png\"/></div></div><div class=\"list_image\"><img alt=\"A Plan to Get the Mole Moving Again\" src=\"/system/news_items/list_view_images/8445_PIA23272-226.jpg\"/></div><div class=\"bottom_gradient\"><div><h3>InSight's Team Tries New Strategy to Help the 'Mole'</h3></div></div></a><div class=\"list_text\"><div class=\"list_date\">June  5, 2019</div><div class=\"content_title\"><a href=\"/news/8445/insights-team-tries-new-strategy-to-help-the-mole/\" target=\"_self\">InSight's Team Tries New Strategy to Help the 'Mole'</a></div><div class=\"article_teaser_body\">The spacecraft's robotic arm will lift the heat probe's support structure, providing a better look at the instrument that has been trying to burrow into the Martian surface.</div></div></div></li>,\n",
       " <li class=\"slide\"><div class=\"image_and_description_container\"><a href=\"/news/8444/common-questions-about-insights-mole/\" target=\"_self\"><div class=\"rollover_description\"><div class=\"rollover_description_inner\">There's a new plan to get InSight's \"mole\" moving again. The following Q&amp;As with two members of the team answer some of the most common questions about the burrowing device, part of a science instrument called the Heat Flow and Physical Properties Package (HP3).</div><div class=\"overlay_arrow\"><img alt=\"More\" src=\"/assets/overlay-arrow.png\"/></div></div><div class=\"list_image\"><img alt=\"The support structure of the Heat Flow and Physical Properties Package (HP3) instrument moved slightly during hammering, as indicated by the circular &quot;footprints&quot; around the instrument's footpads. \" src=\"/system/news_items/list_view_images/8444_PIA23271-320x240.jpg\"/></div><div class=\"bottom_gradient\"><div><h3>Common Questions about InSight's 'Mole'</h3></div></div></a><div class=\"list_text\"><div class=\"list_date\">June  5, 2019</div><div class=\"content_title\"><a href=\"/news/8444/common-questions-about-insights-mole/\" target=\"_self\">Common Questions about InSight's 'Mole'</a></div><div class=\"article_teaser_body\">There's a new plan to get InSight's \"mole\" moving again. The following Q&amp;As with two members of the team answer some of the most common questions about the burrowing device, part of a science instrument called the Heat Flow and Physical Properties Package (HP3).</div></div></div></li>,\n",
       " <li class=\"slide\"><div class=\"image_and_description_container\"><a href=\"/news/8442/nasas-curiosity-mars-rover-finds-a-clay-cache/\" target=\"_self\"><div class=\"rollover_description\"><div class=\"rollover_description_inner\">The rover recently drilled two samples, and both showed the highest levels of clay ever found during the mission.</div><div class=\"overlay_arrow\"><img alt=\"More\" src=\"/assets/overlay-arrow.png\"/></div></div><div class=\"list_image\"><img alt=\"Selfie of NASA's Curiosity Mars rover.\" src=\"/system/news_items/list_view_images/8442_PIA23240_32x24.jpg\"/></div><div class=\"bottom_gradient\"><div><h3>NASA's Curiosity Mars Rover Finds a Clay Cache</h3></div></div></a><div class=\"list_text\"><div class=\"list_date\">May 29, 2019</div><div class=\"content_title\"><a href=\"/news/8442/nasas-curiosity-mars-rover-finds-a-clay-cache/\" target=\"_self\">NASA's Curiosity Mars Rover Finds a Clay Cache</a></div><div class=\"article_teaser_body\">The rover recently drilled two samples, and both showed the highest levels of clay ever found during the mission.</div></div></div></li>,\n",
       " <li class=\"slide\"><div class=\"image_and_description_container\"><a href=\"/news/8443/nasa-to-land-in-mars-pennsylvania-to-celebrate-red-planet-with-steam/\" target=\"_self\"><div class=\"rollover_description\"><div class=\"rollover_description_inner\">NASA returns to Mars, Pennsylvania Friday, May 31 to celebrate Mars exploration and share the agency’s excitement about landing astronauts on the Moon in five years.</div><div class=\"overlay_arrow\"><img alt=\"More\" src=\"/assets/overlay-arrow.png\"/></div></div><div class=\"list_image\"><img alt=\"Flying saucer sculpture located at 100 Pittsburgh Street in Mars, Pennsylvania. \" src=\"/system/news_items/list_view_images/8443_marspa1_320x.jpg\"/></div><div class=\"bottom_gradient\"><div><h3>NASA to Land in Mars, Pennsylvania to Celebrate Red Planet with STEAM</h3></div></div></a><div class=\"list_text\"><div class=\"list_date\">May 23, 2019</div><div class=\"content_title\"><a href=\"/news/8443/nasa-to-land-in-mars-pennsylvania-to-celebrate-red-planet-with-steam/\" target=\"_self\">NASA to Land in Mars, Pennsylvania to Celebrate Red Planet with STEAM</a></div><div class=\"article_teaser_body\">NASA returns to Mars, Pennsylvania Friday, May 31 to celebrate Mars exploration and share the agency’s excitement about landing astronauts on the Moon in five years.</div></div></div></li>,\n",
       " <li class=\"slide\"><div class=\"image_and_description_container\"><a href=\"/news/8441/nasas-mars-2020-gets-a-dose-of-space-here-on-earth/\" target=\"_self\"><div class=\"rollover_description\"><div class=\"rollover_description_inner\">NASA's Mars 2020 spacecraft has completed tests that are the best Earthly approximations of what the spacecraft will endure during launch and interplanetary cruise.</div><div class=\"overlay_arrow\"><img alt=\"More\" src=\"/assets/overlay-arrow.png\"/></div></div><div class=\"list_image\"><img alt=\"The completed spacecraft that will carry the Mars 2020 rover to the Red Planet, next year hangs suspended by cables inside the Space Simulator Facility at NASA's Jet Propulsion Laboratory in Pasadena, California. The image was taken on May 9, 2019.\" src=\"/system/news_items/list_view_images/8441_PIA23262-MAINIMAGE-D2019_0426_G2549-th.jpg\"/></div><div class=\"bottom_gradient\"><div><h3>NASA's Mars 2020 Gets a Dose of Space Here on Earth</h3></div></div></a><div class=\"list_text\"><div class=\"list_date\">May 23, 2019</div><div class=\"content_title\"><a href=\"/news/8441/nasas-mars-2020-gets-a-dose-of-space-here-on-earth/\" target=\"_self\">NASA's Mars 2020 Gets a Dose of Space Here on Earth</a></div><div class=\"article_teaser_body\">NASA's Mars 2020 spacecraft has completed tests that are the best Earthly approximations of what the spacecraft will endure during launch and interplanetary cruise.</div></div></div></li>,\n",
       " <li class=\"slide\"><div class=\"image_and_description_container\"><a href=\"/news/8440/nasa-invites-public-to-submit-names-to-fly-aboard-next-mars-rover/\" target=\"_self\"><div class=\"rollover_description\"><div class=\"rollover_description_inner\">From now till Sept. 30, the public can submit names to be stenciled on chips that will fly on the Mars 2020 rover and receive a souvenir boarding pass.</div><div class=\"overlay_arrow\"><img alt=\"More\" src=\"/assets/overlay-arrow.png\"/></div></div><div class=\"list_image\"><img alt=\"\" src=\"/system/news_items/list_view_images/8440_Main_Mars2020-th.jpg\"/></div><div class=\"bottom_gradient\"><div><h3>NASA Invites Public to Submit Names to Fly Aboard Next Mars Rover</h3></div></div></a><div class=\"list_text\"><div class=\"list_date\">May 21, 2019</div><div class=\"content_title\"><a href=\"/news/8440/nasa-invites-public-to-submit-names-to-fly-aboard-next-mars-rover/\" target=\"_self\">NASA Invites Public to Submit Names to Fly Aboard Next Mars Rover</a></div><div class=\"article_teaser_body\">From now till Sept. 30, the public can submit names to be stenciled on chips that will fly on the Mars 2020 rover and receive a souvenir boarding pass.</div></div></div></li>,\n",
       " <li class=\"slide\"><div class=\"image_and_description_container\"><a href=\"/news/8438/nasas-mro-completes-60000-trips-around-mars/\" target=\"_self\"><div class=\"rollover_description\"><div class=\"rollover_description_inner\">The orbiting spacecraft is also about to set a record for data relayed from the Martian surface.</div><div class=\"overlay_arrow\"><img alt=\"More\" src=\"/assets/overlay-arrow.png\"/></div></div><div class=\"list_image\"><img alt=\"This series of images shows carbon dioxide ice sublimating (going directly from a solid to a gas) inside a pit at Mars' south pole.\" src=\"/system/news_items/list_view_images/8438_mro-trim_main-226.jpg\"/></div><div class=\"bottom_gradient\"><div><h3>NASA's MRO Completes 60,000 Trips Around Mars</h3></div></div></a><div class=\"list_text\"><div class=\"list_date\">May 15, 2019</div><div class=\"content_title\"><a href=\"/news/8438/nasas-mro-completes-60000-trips-around-mars/\" target=\"_self\">NASA's MRO Completes 60,000 Trips Around Mars</a></div><div class=\"article_teaser_body\">The orbiting spacecraft is also about to set a record for data relayed from the Martian surface.</div></div></div></li>,\n",
       " <li class=\"slide\"><div class=\"image_and_description_container\"><a href=\"/news/8437/video-fly-over-mount-sharp-on-mars/\" target=\"_self\"><div class=\"rollover_description\"><div class=\"rollover_description_inner\">A new animation shows the region NASA's Curiosity rover is currently exploring and where its team wants to go in the future.</div><div class=\"overlay_arrow\"><img alt=\"More\" src=\"/assets/overlay-arrow.png\"/></div></div><div class=\"list_image\"><img alt=\"\" src=\"/system/news_items/list_view_images/8437_PIA23179-combo-rev-th.gif\"/></div><div class=\"bottom_gradient\"><div><h3>Video: Fly over Mount Sharp on Mars</h3></div></div></a><div class=\"list_text\"><div class=\"list_date\">May 15, 2019</div><div class=\"content_title\"><a href=\"/news/8437/video-fly-over-mount-sharp-on-mars/\" target=\"_self\">Video: Fly over Mount Sharp on Mars</a></div><div class=\"article_teaser_body\">A new animation shows the region NASA's Curiosity rover is currently exploring and where its team wants to go in the future.</div></div></div></li>,\n",
       " <li class=\"slide\"><div class=\"image_and_description_container\"><a href=\"/news/8436/why-this-martian-full-moon-looks-like-candy/\" target=\"_self\"><div class=\"rollover_description\"><div class=\"rollover_description_inner\">For the first time, NASA's Mars Odyssey orbiter has caught the Martian moon Phobos during a full moon phase. Each color in this new image represents a temperature range detected by Odyssey's infrared camera.</div><div class=\"overlay_arrow\"><img alt=\"More\" src=\"/assets/overlay-arrow.png\"/></div></div><div class=\"list_image\"><img alt=\"Three views of the Martian moon Phobos were taken by NASA's 2001 Mars Odyssey orbiter.\" src=\"/system/news_items/list_view_images/8436_PIA23205_annotated-32x24.jpg\"/></div><div class=\"bottom_gradient\"><div><h3>Why This Martian Full Moon Looks Like Candy</h3></div></div></a><div class=\"list_text\"><div class=\"list_date\">May  9, 2019</div><div class=\"content_title\"><a href=\"/news/8436/why-this-martian-full-moon-looks-like-candy/\" target=\"_self\">Why This Martian Full Moon Looks Like Candy</a></div><div class=\"article_teaser_body\">For the first time, NASA's Mars Odyssey orbiter has caught the Martian moon Phobos during a full moon phase. Each color in this new image represents a temperature range detected by Odyssey's infrared camera.</div></div></div></li>,\n",
       " <li class=\"slide\"><div class=\"image_and_description_container\"><a href=\"/news/8433/for-insight-dust-cleanings-will-yield-new-science/\" target=\"_self\"><div class=\"rollover_description\"><div class=\"rollover_description_inner\">Wind can be crucial to clearing dust from spacecraft solar panels on Mars. With InSight's meteorological sensors, scientists get their first measurements of wind and dust interacting \"live\" on the Martian surface.  </div><div class=\"overlay_arrow\"><img alt=\"More\" src=\"/assets/overlay-arrow.png\"/></div></div><div class=\"list_image\"><img alt=\"​This is NASA InSight's second full selfie on Mars. Since taking its first selfie, the lander has removed its heat probe and seismometer from its deck, placing them on the Martian surface; a thin coating of dust now covers the spacecraft as well.\" src=\"/system/news_items/list_view_images/8433_PIA23203-320x240.jpg\"/></div><div class=\"bottom_gradient\"><div><h3>For InSight, Dust Cleanings Will Yield New Science</h3></div></div></a><div class=\"list_text\"><div class=\"list_date\">May  6, 2019</div><div class=\"content_title\"><a href=\"/news/8433/for-insight-dust-cleanings-will-yield-new-science/\" target=\"_self\">For InSight, Dust Cleanings Will Yield New Science</a></div><div class=\"article_teaser_body\">Wind can be crucial to clearing dust from spacecraft solar panels on Mars. With InSight's meteorological sensors, scientists get their first measurements of wind and dust interacting \"live\" on the Martian surface.  </div></div></div></li>,\n",
       " <li class=\"slide\"><div class=\"image_and_description_container\"><a href=\"/news/8432/insight-captures-sunrise-and-sunset-on-mars/\" target=\"_self\"><div class=\"rollover_description\"><div class=\"rollover_description_inner\">InSight joins the rest of NASA's Red Planet surface missions, all of which have photographed either the start or end of a Martian day.</div><div class=\"overlay_arrow\"><img alt=\"More\" src=\"/assets/overlay-arrow.png\"/></div></div><div class=\"list_image\"><img alt=\"NASA's InSight lander used its Instrument Deployment Camera (IDC) on the spacecraft's robotic arm to image this sunrise on Mars on April 24, 2019, the 145th Martian day (or sol) of the mission. This was taken around 5:30 a.m. Mars local time.\" src=\"/system/news_items/list_view_images/8432_PIA23202_raw-320x240.jpg\"/></div><div class=\"bottom_gradient\"><div><h3>InSight Captures Sunrise and Sunset on Mars</h3></div></div></a><div class=\"list_text\"><div class=\"list_date\">May  1, 2019</div><div class=\"content_title\"><a href=\"/news/8432/insight-captures-sunrise-and-sunset-on-mars/\" target=\"_self\">InSight Captures Sunrise and Sunset on Mars</a></div><div class=\"article_teaser_body\">InSight joins the rest of NASA's Red Planet surface missions, all of which have photographed either the start or end of a Martian day.</div></div></div></li>,\n",
       " <li class=\"slide\"><div class=\"image_and_description_container\"><a href=\"/news/8431/nasa-social-media-and-websites-win-webby-awards/\" target=\"_self\"><div class=\"rollover_description\"><div class=\"rollover_description_inner\">NASA's social media presence, the InSight mission social media accounts, NASA.gov and SolarSystem.NASA.gov will be honored at the 2019 Webby Awards - \"the Oscars of the Internet.\"</div><div class=\"overlay_arrow\"><img alt=\"More\" src=\"/assets/overlay-arrow.png\"/></div></div><div class=\"list_image\"><img alt=\"Numerous Webby and People's Voice awards have honored NASA digital and social media efforts since 1998.Credit: NASA \" src=\"/system/news_items/list_view_images/8431_webby20190423-226.jpg\"/></div><div class=\"bottom_gradient\"><div><h3>NASA Social Media and Websites Win Webby Awards </h3></div></div></a><div class=\"list_text\"><div class=\"list_date\">April 23, 2019</div><div class=\"content_title\"><a href=\"/news/8431/nasa-social-media-and-websites-win-webby-awards/\" target=\"_self\">NASA Social Media and Websites Win Webby Awards </a></div><div class=\"article_teaser_body\">NASA's social media presence, the InSight mission social media accounts, NASA.gov and SolarSystem.NASA.gov will be honored at the 2019 Webby Awards - \"the Oscars of the Internet.\"</div></div></div></li>]"
      ]
     },
     "execution_count": 6,
     "metadata": {},
     "output_type": "execute_result"
    }
   ],
   "source": [
    "slides = soup.find_all('li', class_='slide')\n",
    "slides"
   ]
  },
  {
   "cell_type": "code",
   "execution_count": 7,
   "metadata": {},
   "outputs": [
    {
     "name": "stdout",
     "output_type": "stream",
     "text": [
      "-------------\n",
      "Title: What's Mars Solar Conjunction, and Why Does It Matter?\n",
      "\n",
      "Teaser: NASA spacecraft at Mars are going to be on their own for a few weeks when the Sun comes between Mars and Earth, interrupting communications.\n",
      "-------------\n",
      "Title: Scientists Explore Outback as Testbed for Mars \n",
      "\n",
      "Teaser: Australia provides a great place for NASA's Mars 2020 and the ESA-Roscosmos ExoMars scientists to hone techniques in preparation for searching for signs ancient life on Mars.\n",
      "-------------\n",
      "Title: NASA-JPL Names 'Rolling Stones Rock' on Mars\n",
      "\n",
      "Teaser: NASA's Mars InSight mission honored one of the biggest bands of all time at Pasadena concert.\n",
      "-------------\n",
      "Title: Robotic Toolkit Added to NASA's Mars 2020 Rover\n",
      "\n",
      "Teaser: The bit carousel, which lies at the heart of the rover's Sample Caching System, is now aboard NASA's newest rover. \n",
      "-------------\n",
      "Title: Space Samples Link NASA's Apollo 11 and Mars 2020\n",
      "\n",
      "Teaser: While separated by half a century, NASA's Apollo 11 and Mars 2020 missions share the same historic goal: returning samples to Earth.\n",
      "-------------\n",
      "Title: Small Satellite Mission of the Year\n",
      "\n",
      "Teaser: The first interplanetary CubeSats were recognized by the engineering community with the 2019 Small Satellite Mission of the Year award.\n",
      "-------------\n",
      "Title: NASA 'Optometrists' Verify Mars 2020 Rover's 20/20 Vision\n",
      "\n",
      "Teaser: Mars 2020 rover underwent an eye exam after several cameras were installed on the rover.\n",
      "-------------\n",
      "Title: New Finds for Mars Rover, Seven Years After Landing\n",
      "\n",
      "Teaser: NASA's Curiosity rover is discovering odd rocks halfway into a region called the \"clay-bearing unit.\"\n",
      "-------------\n",
      "Title: MEDLI2 Installation on Mars 2020 Aeroshell Begins\n",
      "\n",
      "Teaser: Hardware installed onto NASA's Mars 2020 entry vehicle this week will help to increase the safety of future Mars landings.\n",
      "-------------\n",
      "Title: NASA's Mars 2020 Rover Does Biceps Curls \n",
      "\n",
      "Teaser: In this time-lapse video, the robotic arm on NASA's Mars 2020 rover maneuvers its 88-pound (40-kilogram) sensor-laden turret as it moves from a deployed to stowed configuration.\n",
      "-------------\n",
      "Title: Fueling of NASA's Mars 2020 Rover Power System Begins\n",
      "\n",
      "Teaser: NASA gives the go-ahead to fuel the Mars 2020 rover's Multi-Mission Radioisotope Thermoelectric Generator, which will power rover and help keep it warm while exploring Mars.\n",
      "-------------\n",
      "Title: What Does a Marsquake Look Like?\n",
      "\n",
      "Teaser: InSight scientists used a special \"shake room\" to demonstrate the differences between quakes on Earth, the Moon and Mars.\n",
      "-------------\n",
      "Title: Mars 2020 Rover: T-Minus One Year and Counting \n",
      "\n",
      "Teaser: The launch period for NASA's next rover, Mars 2020, opens exactly one year from today, July 17, 2020, and extends through Aug. 5, 2020.\n",
      "-------------\n",
      "Title: NASA Racks Up Two Emmy Nominations for Mission Coverage\n",
      "\n",
      "Teaser: JPL's coverage of the Mars InSight mission is among the efforts that will be up for an award in mid-September.\n",
      "-------------\n",
      "Title: Want to Colonize Mars? Aerogel Could Help\n",
      "\n",
      "Teaser: Researchers are studying whether a wonder material used in Mars rovers could help warm parts of the Red Planet rich in water ice.\n",
      "-------------\n",
      "Title: A Rover Pit Stop at JPL\n",
      "\n",
      "Teaser: Working like a finely honed machine, a team of engineers in this time-lapse video clip install test wheels on another finely honed machine: NASA's Mars 2020 rover.\n",
      "-------------\n",
      "Title: Mars 2020 Rover Gets a Super Instrument\n",
      "\n",
      "Teaser: With its rock-zapping laser, the SuperCam will enable the science team to identify the chemical and mineral makeup of its targets on the Red Planet.\n",
      "-------------\n",
      "Title: A Neil Armstrong for Mars: Landing the Mars 2020 Rover\n",
      "\n",
      "Teaser: NASA's newest rover will have an autopilot called Terrain-Relative Navigation.\n",
      "-------------\n",
      "Title: NASA's InSight Uncovers the 'Mole' \n",
      "\n",
      "Teaser: The lander's robotic arm has successfully removed a piece of hardware blocking the view of its digging device in order to help with recovery efforts.\n",
      "-------------\n",
      "Title: Mars 2020 Rover's 7-Foot-Long Robotic Arm Installed\n",
      "\n",
      "Teaser: The main robotic arm has been installed on NASA's newest rover. When complete, the arm will enable the rover to hold and use science tools like a human geologist would.\n",
      "-------------\n",
      "Title: NASA Selects Partners for Mars 2020 'Name the Rover' Contest, Seeks Judges\n",
      "\n",
      "Teaser: The contest for U.S. schoolchildren will open in fall 2019, but judges can sign up now.\n",
      "-------------\n",
      "Title: Curiosity's Mars Methane Mystery Continues\n",
      "\n",
      "Teaser: The Curiosity rover’s follow-on sampling shows last week’s methane levels have sharply decreased.\n",
      "-------------\n",
      "Title: Mars 2020 Rover Gets Its Wheels\n",
      "\n",
      "Teaser: With the mobility suspension in place, the rover not only looks more like a rover but has many of its 'big-ticket items' installed.\n",
      "-------------\n",
      "Title: The Mast Is Raised for NASA's Mars 2020 Rover\n",
      "\n",
      "Teaser: Engineers at JPL take a group selfie after attaching the remote sensing mast to the Mars 2020 rover.\n",
      "-------------\n",
      "Title: NASA's Mars 2020 Will Blaze a Trail — for Humans\n",
      "\n",
      "Teaser: The next robotic Mars mission will carry technology that will help enable astronauts to eventually explore the Red Planet.\n",
      "-------------\n",
      "Title: Johnson-Built Device to Help Mars 2020 Rover Search for Signs of Life\n",
      "\n",
      "Teaser: NASA’s Johnson Space Center (JSC) recently built a new calibration device for the rover to check SHERLOC’s function and properly tune it during the upcoming mission.\n",
      "-------------\n",
      "Title: Watch NASA Build Its Next Mars Rover\n",
      "\n",
      "Teaser: A newly installed webcam offers the public a live, bird's-eye view of NASA's Mars 2020 rover as it takes shape at NASA's Jet Propulsion Laboratory. \n",
      "-------------\n",
      "Title: NASA's Mars Helicopter Testing Enters Final Phase\n",
      "\n",
      "Teaser: NASA's Mars Helicopter flight demonstration project has passed a number of key tests with flying colors.\n",
      "-------------\n",
      "Title: InSight's Team Tries New Strategy to Help the 'Mole'\n",
      "\n",
      "Teaser: The spacecraft's robotic arm will lift the heat probe's support structure, providing a better look at the instrument that has been trying to burrow into the Martian surface.\n",
      "-------------\n",
      "Title: Common Questions about InSight's 'Mole'\n",
      "\n",
      "Teaser: There's a new plan to get InSight's \"mole\" moving again. The following Q&As with two members of the team answer some of the most common questions about the burrowing device, part of a science instrument called the Heat Flow and Physical Properties Package (HP3).\n",
      "-------------\n",
      "Title: NASA's Curiosity Mars Rover Finds a Clay Cache\n",
      "\n",
      "Teaser: The rover recently drilled two samples, and both showed the highest levels of clay ever found during the mission.\n",
      "-------------\n",
      "Title: NASA to Land in Mars, Pennsylvania to Celebrate Red Planet with STEAM\n",
      "\n",
      "Teaser: NASA returns to Mars, Pennsylvania Friday, May 31 to celebrate Mars exploration and share the agency’s excitement about landing astronauts on the Moon in five years.\n",
      "-------------\n",
      "Title: NASA's Mars 2020 Gets a Dose of Space Here on Earth\n",
      "\n",
      "Teaser: NASA's Mars 2020 spacecraft has completed tests that are the best Earthly approximations of what the spacecraft will endure during launch and interplanetary cruise.\n",
      "-------------\n",
      "Title: NASA Invites Public to Submit Names to Fly Aboard Next Mars Rover\n",
      "\n",
      "Teaser: From now till Sept. 30, the public can submit names to be stenciled on chips that will fly on the Mars 2020 rover and receive a souvenir boarding pass.\n",
      "-------------\n",
      "Title: NASA's MRO Completes 60,000 Trips Around Mars\n",
      "\n",
      "Teaser: The orbiting spacecraft is also about to set a record for data relayed from the Martian surface.\n",
      "-------------\n",
      "Title: Video: Fly over Mount Sharp on Mars\n",
      "\n",
      "Teaser: A new animation shows the region NASA's Curiosity rover is currently exploring and where its team wants to go in the future.\n",
      "-------------\n",
      "Title: Why This Martian Full Moon Looks Like Candy\n",
      "\n",
      "Teaser: For the first time, NASA's Mars Odyssey orbiter has caught the Martian moon Phobos during a full moon phase. Each color in this new image represents a temperature range detected by Odyssey's infrared camera.\n",
      "-------------\n",
      "Title: For InSight, Dust Cleanings Will Yield New Science\n",
      "\n",
      "Teaser: Wind can be crucial to clearing dust from spacecraft solar panels on Mars. With InSight's meteorological sensors, scientists get their first measurements of wind and dust interacting \"live\" on the Martian surface.  \n",
      "-------------\n",
      "Title: InSight Captures Sunrise and Sunset on Mars\n",
      "\n",
      "Teaser: InSight joins the rest of NASA's Red Planet surface missions, all of which have photographed either the start or end of a Martian day.\n",
      "-------------\n",
      "Title: NASA Social Media and Websites Win Webby Awards \n",
      "\n",
      "Teaser: NASA's social media presence, the InSight mission social media accounts, NASA.gov and SolarSystem.NASA.gov will be honored at the 2019 Webby Awards - \"the Oscars of the Internet.\"\n"
     ]
    }
   ],
   "source": [
    "for slide in slides:\n",
    "    try:\n",
    "        title = slide.find('div', class_=\"content_title\").text\n",
    "        text = slide.find('div', class_=\"article_teaser_body\").text\n",
    "     # Print results only if title, price, and link are available\n",
    "        if (title and text):\n",
    "            print('-------------')\n",
    "            print(f\"Title: {title}\")\n",
    "            print('')\n",
    "            print(f\"Teaser: {text}\")\n",
    "            \n",
    "    except AttributeError as e:\n",
    "        print(e)"
   ]
  },
  {
   "cell_type": "markdown",
   "metadata": {},
   "source": [
    "# JPL Mars Space Images - Featured Image"
   ]
  },
  {
   "cell_type": "code",
   "execution_count": 8,
   "metadata": {},
   "outputs": [],
   "source": [
    "image_url = 'https://www.jpl.nasa.gov/spaceimages/?search=&category=Mars'\n",
    "browser.visit(image_url)"
   ]
  },
  {
   "cell_type": "code",
   "execution_count": 9,
   "metadata": {},
   "outputs": [],
   "source": [
    "html = browser.html\n",
    "soup = BeautifulSoup(html, 'html.parser')"
   ]
  },
  {
   "cell_type": "code",
   "execution_count": 10,
   "metadata": {},
   "outputs": [
    {
     "data": {
      "text/plain": [
       "'https://www.jpl.nasa.gov/spaceimages/images/mediumsize/PIA18614_ip.jpg'"
      ]
     },
     "execution_count": 10,
     "metadata": {},
     "output_type": "execute_result"
    }
   ],
   "source": [
    "featured_image = soup.find('article', class_='carousel_item')\n",
    "image_path = featured_image.a['data-fancybox-href']\n",
    "featured_image_url = f\"https://www.jpl.nasa.gov{image_path}\"\n",
    "featured_image_url"
   ]
  },
  {
   "cell_type": "code",
   "execution_count": 11,
   "metadata": {},
   "outputs": [],
   "source": [
    "# Wallpaper sized featured image\n",
    "# image_path_raw = featured_image['style']\n",
    "# image_path_split = image_path_raw.split('\\'')\n",
    "# image_path = image_path_split[1]"
   ]
  },
  {
   "cell_type": "markdown",
   "metadata": {},
   "source": [
    "# Mars Weather"
   ]
  },
  {
   "cell_type": "code",
   "execution_count": 12,
   "metadata": {},
   "outputs": [],
   "source": [
    "weather_url = 'https://twitter.com/marswxreport?lang=en'\n",
    "browser.visit(weather_url)"
   ]
  },
  {
   "cell_type": "code",
   "execution_count": 13,
   "metadata": {},
   "outputs": [],
   "source": [
    "html = browser.html\n",
    "soup = BeautifulSoup(html, 'html.parser')"
   ]
  },
  {
   "cell_type": "code",
   "execution_count": 14,
   "metadata": {},
   "outputs": [],
   "source": [
    "tweet_raw = soup.find('p', class_= \"TweetTextSize TweetTextSize--normal js-tweet-text tweet-text\")\n",
    "tweet = tweet_raw.contents[0]\n",
    "tweet = tweet.replace('\\n', ' ')"
   ]
  },
  {
   "cell_type": "markdown",
   "metadata": {},
   "source": [
    "# Mars Facts"
   ]
  },
  {
   "cell_type": "code",
   "execution_count": 16,
   "metadata": {},
   "outputs": [],
   "source": [
    "facts_url = 'https://space-facts.com/mars/'\n",
    "browser.visit(facts_url)"
   ]
  },
  {
   "cell_type": "code",
   "execution_count": 17,
   "metadata": {},
   "outputs": [],
   "source": [
    "html = browser.html\n",
    "soup = BeautifulSoup(html, 'html.parser')"
   ]
  },
  {
   "cell_type": "code",
   "execution_count": 35,
   "metadata": {},
   "outputs": [
    {
     "name": "stdout",
     "output_type": "stream",
     "text": [
      "<table border=\"1\" class=\"dataframe\">\n",
      "  <tbody>\n",
      "    <tr>\n",
      "      <td>Equatorial Diameter:</td>\n",
      "      <td>6,792 km</td>\n",
      "    </tr>\n",
      "    <tr>\n",
      "      <td>Polar Diameter:</td>\n",
      "      <td>6,752 km</td>\n",
      "    </tr>\n",
      "    <tr>\n",
      "      <td>Mass:</td>\n",
      "      <td>6.39 × 10^23 kg (0.11 Earths)</td>\n",
      "    </tr>\n",
      "    <tr>\n",
      "      <td>Moons:</td>\n",
      "      <td>2 (Phobos &amp; Deimos)</td>\n",
      "    </tr>\n",
      "    <tr>\n",
      "      <td>Orbit Distance:</td>\n",
      "      <td>227,943,824 km (1.38 AU)</td>\n",
      "    </tr>\n",
      "    <tr>\n",
      "      <td>Orbit Period:</td>\n",
      "      <td>687 days (1.9 years)</td>\n",
      "    </tr>\n",
      "    <tr>\n",
      "      <td>Surface Temperature:</td>\n",
      "      <td>-87 to -5 °C</td>\n",
      "    </tr>\n",
      "    <tr>\n",
      "      <td>First Record:</td>\n",
      "      <td>2nd millennium BC</td>\n",
      "    </tr>\n",
      "    <tr>\n",
      "      <td>Recorded By:</td>\n",
      "      <td>Egyptian astronomers</td>\n",
      "    </tr>\n",
      "  </tbody>\n",
      "</table>\n"
     ]
    }
   ],
   "source": [
    "mars_data = pd.read_html(facts_url)\n",
    "mars_data = pd.DataFrame(mars_data[1])\n",
    "mars_facts = mars_data.to_html(header = False, index = False)\n",
    "print(mars_facts)"
   ]
  },
  {
   "cell_type": "markdown",
   "metadata": {},
   "source": [
    "# Mars Hemisphere"
   ]
  },
  {
   "cell_type": "code",
   "execution_count": null,
   "metadata": {},
   "outputs": [],
   "source": [
    "hemisphere_url = 'https://astrogeology.usgs.gov/search/results?q=hemisphere+enhanced&k1=target&v1=Mars'\n",
    "browser.visit(hemisphere_url)"
   ]
  },
  {
   "cell_type": "code",
   "execution_count": null,
   "metadata": {},
   "outputs": [],
   "source": [
    "html = browser.html\n",
    "soup = BeautifulSoup(html, 'html.parser')"
   ]
  },
  {
   "cell_type": "code",
   "execution_count": null,
   "metadata": {},
   "outputs": [],
   "source": [
    "mars_hemispheres = soup.find_all('h3')\n",
    "title = [hemisphere.text.replace(' Enhanced', '') for hemisphere in mars_hemispheres]\n",
    "title"
   ]
  },
  {
   "cell_type": "code",
   "execution_count": null,
   "metadata": {},
   "outputs": [],
   "source": [
    "# Define base url \n",
    "hemisphere_url_base = 'https://astrogeology.usgs.gov'\n",
    "\n",
    "# Find url path for each hemisphere\n",
    "url_path = soup.find_all('div', class_='description')\n",
    "url_path"
   ]
  },
  {
   "cell_type": "code",
   "execution_count": null,
   "metadata": {},
   "outputs": [],
   "source": [
    "#url_path[0].a['href']\n",
    "# List comprehension for url path for each of Mars' hemisphere\n",
    "hemisphere_url_path = [hemisphere_url_base + path.a['href'] for path in url_path]\n",
    "# Confirm list of urls\n",
    "hemisphere_url_path"
   ]
  },
  {
   "cell_type": "code",
   "execution_count": null,
   "metadata": {},
   "outputs": [],
   "source": [
    "# Create empty list to append hemisphere image url\n",
    "hemisphere_img_url = []\n",
    "\n",
    "# Loop through list of hemisphere url to scrape image url and append to list\n",
    "for url in hemisphere_url_path:\n",
    "    response = requests.get(url)\n",
    "    soup = BeautifulSoup(response.text, 'html.parser')\n",
    "    results = soup.find('li')\n",
    "    hemisphere_img_url.append(results.a['href'])\n",
    "    \n",
    "# Confirm list of image urls\n",
    "hemisphere_img_url"
   ]
  },
  {
   "cell_type": "code",
   "execution_count": null,
   "metadata": {},
   "outputs": [],
   "source": [
    "# List comprehension for hemisphere dictionary\n",
    "hemisphere_dict = [{\"title\": title[i], \"img_url\": hemisphere_img_url[i]} for i in range(len(hemisphere_img_url))]\n",
    "hemisphere_dict"
   ]
  },
  {
   "cell_type": "code",
   "execution_count": null,
   "metadata": {},
   "outputs": [],
   "source": []
  },
  {
   "cell_type": "code",
   "execution_count": null,
   "metadata": {},
   "outputs": [],
   "source": []
  }
 ],
 "metadata": {
  "kernelspec": {
   "display_name": "Python [conda env:PythonData] *",
   "language": "python",
   "name": "conda-env-PythonData-py"
  },
  "language_info": {
   "codemirror_mode": {
    "name": "ipython",
    "version": 3
   },
   "file_extension": ".py",
   "mimetype": "text/x-python",
   "name": "python",
   "nbconvert_exporter": "python",
   "pygments_lexer": "ipython3",
   "version": "3.6.8"
  }
 },
 "nbformat": 4,
 "nbformat_minor": 2
}
